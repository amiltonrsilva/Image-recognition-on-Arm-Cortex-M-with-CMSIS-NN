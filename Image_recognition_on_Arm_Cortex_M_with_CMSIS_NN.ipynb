{
  "nbformat": 4,
  "nbformat_minor": 0,
  "metadata": {
    "colab": {
      "name": "Image_recognition_on_Arm_Cortex_M_with_CMSIS_NN.ipynb",
      "provenance": [],
      "collapsed_sections": []
    },
    "kernelspec": {
      "name": "python2",
      "display_name": "Python 2"
    }
  },
  "cells": [
    {
      "cell_type": "code",
      "metadata": {
        "id": "c9BO6ly1LWKf",
        "colab_type": "code",
        "colab": {
          "base_uri": "https://localhost:8080/",
          "height": 742
        },
        "outputId": "ba4064a6-0b27-4a8d-d1b6-5c25a6989854"
      },
      "source": [
        "!pip install mbed-cli"
      ],
      "execution_count": 1,
      "outputs": [
        {
          "output_type": "stream",
          "text": [
            "Collecting mbed-cli\n",
            "\u001b[?25l  Downloading https://files.pythonhosted.org/packages/2b/cf/afd40c5bbeb23ff5fdcfcd887359195181cd38b74c2c6f5ecc95858807cb/mbed-cli-1.10.1.tar.gz (43kB)\n",
            "\u001b[K     |████████████████████████████████| 51kB 3.9MB/s \n",
            "\u001b[?25hCollecting pyserial<4.0,>=3.0\n",
            "\u001b[?25l  Downloading https://files.pythonhosted.org/packages/0d/e4/2a744dd9e3be04a0c0907414e2a01a7c88bb3915cbe3c8cc06e209f59c30/pyserial-3.4-py2.py3-none-any.whl (193kB)\n",
            "\u001b[K     |████████████████████████████████| 194kB 25.6MB/s \n",
            "\u001b[?25hCollecting mbed-os-tools<0.1.0,>=0.0.9\n",
            "\u001b[?25l  Downloading https://files.pythonhosted.org/packages/a8/5b/38b68ad1e2186d0ad57a9436fa2b97bc6cd8b40c016a47b46e31c34ea5d2/mbed_os_tools-0.0.10-py2-none-any.whl (150kB)\n",
            "\u001b[K     |████████████████████████████████| 153kB 55.4MB/s \n",
            "\u001b[?25hCollecting colorama<0.5,>=0.3\n",
            "  Downloading https://files.pythonhosted.org/packages/4f/a6/728666f39bfff1719fc94c481890b2106837da9318031f71a8424b662e12/colorama-0.4.1-py2.py3-none-any.whl\n",
            "Collecting appdirs<2.0,>=1.4\n",
            "  Downloading https://files.pythonhosted.org/packages/56/eb/810e700ed1349edde4cbdc1b2a21e28cdf115f9faf263f6bbf8447c1abf3/appdirs-1.4.3-py2.py3-none-any.whl\n",
            "Collecting fasteners\n",
            "  Downloading https://files.pythonhosted.org/packages/18/bd/55eb2d6397b9c0e263af9d091ebdb756b15756029b3cededf6461481bc63/fasteners-0.15-py2.py3-none-any.whl\n",
            "Requirement already satisfied: PrettyTable>=0.7.2 in /usr/local/lib/python2.7/dist-packages (from mbed-os-tools<0.1.0,>=0.0.9->mbed-cli) (0.7.2)\n",
            "Collecting intelhex<3.0,>=2.0\n",
            "\u001b[?25l  Downloading https://files.pythonhosted.org/packages/bf/77/bf670318b3db325c71e2ac6a90b7bcfdf9fc739b7cf6aebb31715721623e/intelhex-2.2.1-py2.py3-none-any.whl (50kB)\n",
            "\u001b[K     |████████████████████████████████| 51kB 7.1MB/s \n",
            "\u001b[?25hCollecting lockfile\n",
            "  Downloading https://files.pythonhosted.org/packages/c8/22/9460e311f340cb62d26a38c419b1381b8593b0bb6b5d1f056938b086d362/lockfile-0.12.2-py2.py3-none-any.whl\n",
            "Requirement already satisfied: requests<3.0,>=2.0 in /usr/local/lib/python2.7/dist-packages (from mbed-os-tools<0.1.0,>=0.0.9->mbed-cli) (2.21.0)\n",
            "Collecting junit-xml<2.0,>=1.0\n",
            "  Downloading https://files.pythonhosted.org/packages/a6/2a/f8d5aab80bb31fcc789d0f2b34b49f08bd6121cd8798d2e37f416df2b9f8/junit-xml-1.8.tar.gz\n",
            "Requirement already satisfied: future in /usr/local/lib/python2.7/dist-packages (from mbed-os-tools<0.1.0,>=0.0.9->mbed-cli) (0.16.0)\n",
            "Requirement already satisfied: six<2.0,>=1.0 in /usr/local/lib/python2.7/dist-packages (from mbed-os-tools<0.1.0,>=0.0.9->mbed-cli) (1.12.0)\n",
            "Collecting monotonic>=0.1\n",
            "  Downloading https://files.pythonhosted.org/packages/ac/aa/063eca6a416f397bd99552c534c6d11d57f58f2e94c14780f3bbf818c4cf/monotonic-1.5-py2.py3-none-any.whl\n",
            "Requirement already satisfied: urllib3<1.25,>=1.21.1 in /usr/local/lib/python2.7/dist-packages (from requests<3.0,>=2.0->mbed-os-tools<0.1.0,>=0.0.9->mbed-cli) (1.24.3)\n",
            "Requirement already satisfied: certifi>=2017.4.17 in /usr/local/lib/python2.7/dist-packages (from requests<3.0,>=2.0->mbed-os-tools<0.1.0,>=0.0.9->mbed-cli) (2019.6.16)\n",
            "Requirement already satisfied: chardet<3.1.0,>=3.0.2 in /usr/local/lib/python2.7/dist-packages (from requests<3.0,>=2.0->mbed-os-tools<0.1.0,>=0.0.9->mbed-cli) (3.0.4)\n",
            "Requirement already satisfied: idna<2.9,>=2.5 in /usr/local/lib/python2.7/dist-packages (from requests<3.0,>=2.0->mbed-os-tools<0.1.0,>=0.0.9->mbed-cli) (2.8)\n",
            "Building wheels for collected packages: mbed-cli, junit-xml\n",
            "  Building wheel for mbed-cli (setup.py) ... \u001b[?25l\u001b[?25hdone\n",
            "  Created wheel for mbed-cli: filename=mbed_cli-1.10.1-cp27-none-any.whl size=41478 sha256=8e9efcd2a082e460b74bc28287442e2b6122e6646918574a4b4c19eec5f3da44\n",
            "  Stored in directory: /root/.cache/pip/wheels/91/e2/d3/d70c9bc5cd18a6b586b18478b2f8d98b399622d1065d22ecd5\n",
            "  Building wheel for junit-xml (setup.py) ... \u001b[?25l\u001b[?25hdone\n",
            "  Created wheel for junit-xml: filename=junit_xml-1.8-cp27-none-any.whl size=6763 sha256=29442fab0e772766bfedf11ff958918af0d84f10a8b5285794e2faa2c3b5f9fc\n",
            "  Stored in directory: /root/.cache/pip/wheels/c6/c5/65/5b166afb6eac87dc300368ec4d92f39502dd41cdc73056d49e\n",
            "Successfully built mbed-cli junit-xml\n",
            "Installing collected packages: pyserial, colorama, appdirs, monotonic, fasteners, intelhex, lockfile, junit-xml, mbed-os-tools, mbed-cli\n",
            "Successfully installed appdirs-1.4.3 colorama-0.4.1 fasteners-0.15 intelhex-2.2.1 junit-xml-1.8 lockfile-0.12.2 mbed-cli-1.10.1 mbed-os-tools-0.0.10 monotonic-1.5 pyserial-3.4\n"
          ],
          "name": "stdout"
        }
      ]
    },
    {
      "cell_type": "code",
      "metadata": {
        "id": "99dMsVxTLdKV",
        "colab_type": "code",
        "colab": {
          "base_uri": "https://localhost:8080/",
          "height": 205
        },
        "outputId": "019061b4-c346-4a65-bd31-dd4345a342d5"
      },
      "source": [
        "!pip install mercurial"
      ],
      "execution_count": 2,
      "outputs": [
        {
          "output_type": "stream",
          "text": [
            "Collecting mercurial\n",
            "\u001b[?25l  Downloading https://files.pythonhosted.org/packages/d6/a4/abf5168c8acad343863fd953006eb60c6405e11607ad191ea5f03d09e956/mercurial-5.2.tar.gz (7.3MB)\n",
            "\u001b[K     |████████████████████████████████| 7.3MB 7.3MB/s \n",
            "\u001b[?25hBuilding wheels for collected packages: mercurial\n",
            "  Building wheel for mercurial (setup.py) ... \u001b[?25l\u001b[?25hdone\n",
            "  Created wheel for mercurial: filename=mercurial-5.2-cp27-cp27mu-linux_x86_64.whl size=4027654 sha256=2e87ec050d013985246aecb03c16d358446118ecbb91b54fd3c70862607dc9af\n",
            "  Stored in directory: /root/.cache/pip/wheels/48/d9/62/98aa708b8e54f63e6c8b408274a9d002aad8013444012aaf10\n",
            "Successfully built mercurial\n",
            "Installing collected packages: mercurial\n",
            "Successfully installed mercurial-5.2\n"
          ],
          "name": "stdout"
        }
      ]
    },
    {
      "cell_type": "code",
      "metadata": {
        "id": "zngQi0q9LyXf",
        "colab_type": "code",
        "colab": {}
      },
      "source": [
        "mkdir CMSISNN_Webinar"
      ],
      "execution_count": 0,
      "outputs": []
    },
    {
      "cell_type": "code",
      "metadata": {
        "id": "fwv8_wGLMEwk",
        "colab_type": "code",
        "colab": {
          "base_uri": "https://localhost:8080/",
          "height": 34
        },
        "outputId": "3882ac61-b3c1-4014-86a3-cc5ee6449aa2"
      },
      "source": [
        "cd CMSISNN_Webinar"
      ],
      "execution_count": 6,
      "outputs": [
        {
          "output_type": "stream",
          "text": [
            "/content/CMSISNN_Webinar\n"
          ],
          "name": "stdout"
        }
      ]
    },
    {
      "cell_type": "code",
      "metadata": {
        "id": "IXSiBKszMINT",
        "colab_type": "code",
        "colab": {
          "base_uri": "https://localhost:8080/",
          "height": 151
        },
        "outputId": "fff65d37-8a01-4e47-bbce-f7e5b06ea7dd"
      },
      "source": [
        "!mbed new cmsisnn_demo --mbedlib"
      ],
      "execution_count": 7,
      "outputs": [
        {
          "output_type": "stream",
          "text": [
            "[mbed] Working path \"/content/CMSISNN_Webinar\" (directory)\n",
            "[mbed] Creating new program \"cmsisnn_demo\" (git)\n",
            "[mbed] Adding library \"mbed\" from \"https://mbed.org/users/mbed_official/code/mbed/builds\" at branch/tag \"tip\"\n",
            "[mbed] Downloading library build \"65be27845400\" (might take a while)\n",
            "[mbed] Unpacking library build \"65be27845400\" in \"/content/CMSISNN_Webinar/cmsisnn_demo/mbed\"\n",
            "[mbed] Updating reference \"mbed\" -> \"https://mbed.org/users/mbed_official/code/mbed/builds/65be27845400\"\n",
            "[mbed] Couldn't find build tools in your program. Downloading the mbed 2.0 SDK tools...\n",
            "[mbed] Auto-installing missing Python modules (mbed_ls, mbed_host_tests, mbed_greentea, fuzzywuzzy)...\n"
          ],
          "name": "stdout"
        }
      ]
    },
    {
      "cell_type": "code",
      "metadata": {
        "id": "65yvdi1iMtcH",
        "colab_type": "code",
        "colab": {
          "base_uri": "https://localhost:8080/",
          "height": 34
        },
        "outputId": "5c2231cc-db85-473b-84fa-8306d7cced4f"
      },
      "source": [
        "cd cmsisnn_demo/.temp/tools/"
      ],
      "execution_count": 9,
      "outputs": [
        {
          "output_type": "stream",
          "text": [
            "/content/CMSISNN_Webinar/cmsisnn_demo/.temp/tools\n"
          ],
          "name": "stdout"
        }
      ]
    },
    {
      "cell_type": "code",
      "metadata": {
        "id": "1xacnbOFM3H9",
        "colab_type": "code",
        "colab": {
          "base_uri": "https://localhost:8080/",
          "height": 457
        },
        "outputId": "e007ee16-2f57-486e-b123-4b7e409b5a35"
      },
      "source": [
        "!pip install -r requirements.txt"
      ],
      "execution_count": 11,
      "outputs": [
        {
          "output_type": "stream",
          "text": [
            "Requirement already satisfied: colorama>=0.3.3 in /usr/local/lib/python2.7/dist-packages (from -r requirements.txt (line 1)) (0.4.1)\n",
            "Requirement already satisfied: PySerial>=2.7 in /usr/local/lib/python2.7/dist-packages (from -r requirements.txt (line 2)) (3.4)\n",
            "Requirement already satisfied: PrettyTable>=0.7.2 in /usr/local/lib/python2.7/dist-packages (from -r requirements.txt (line 3)) (0.7.2)\n",
            "Requirement already satisfied: Jinja2>=2.7.3 in /usr/local/lib/python2.7/dist-packages (from -r requirements.txt (line 4)) (2.10.1)\n",
            "Requirement already satisfied: IntelHex>=1.3 in /usr/local/lib/python2.7/dist-packages (from -r requirements.txt (line 5)) (2.2.1)\n",
            "Requirement already satisfied: junit-xml in /usr/local/lib/python2.7/dist-packages (from -r requirements.txt (line 6)) (1.8)\n",
            "Requirement already satisfied: pyYAML in /usr/local/lib/python2.7/dist-packages (from -r requirements.txt (line 7)) (3.13)\n",
            "Requirement already satisfied: requests in /usr/local/lib/python2.7/dist-packages (from -r requirements.txt (line 8)) (2.21.0)\n",
            "Requirement already satisfied: mbed-ls>=0.2.13 in /usr/local/lib/python2.7/dist-packages (from -r requirements.txt (line 9)) (1.7.9)\n",
            "Requirement already satisfied: mbed-host-tests>=1.1.2 in /usr/local/lib/python2.7/dist-packages (from -r requirements.txt (line 10)) (1.5.9)\n",
            "Requirement already satisfied: mbed-greentea>=0.2.24 in /usr/local/lib/python2.7/dist-packages (from -r requirements.txt (line 11)) (1.7.3)\n",
            "Requirement already satisfied: beautifulsoup4>=4 in /usr/local/lib/python2.7/dist-packages (from -r requirements.txt (line 12)) (4.6.3)\n",
            "Requirement already satisfied: fuzzywuzzy>=0.11 in /usr/local/lib/python2.7/dist-packages (from -r requirements.txt (line 13)) (0.17.0)\n",
            "Requirement already satisfied: MarkupSafe>=0.23 in /usr/local/lib/python2.7/dist-packages (from Jinja2>=2.7.3->-r requirements.txt (line 4)) (1.1.1)\n",
            "Requirement already satisfied: six in /usr/local/lib/python2.7/dist-packages (from junit-xml->-r requirements.txt (line 6)) (1.12.0)\n",
            "Requirement already satisfied: urllib3<1.25,>=1.21.1 in /usr/local/lib/python2.7/dist-packages (from requests->-r requirements.txt (line 8)) (1.24.3)\n",
            "Requirement already satisfied: certifi>=2017.4.17 in /usr/local/lib/python2.7/dist-packages (from requests->-r requirements.txt (line 8)) (2019.6.16)\n",
            "Requirement already satisfied: chardet<3.1.0,>=3.0.2 in /usr/local/lib/python2.7/dist-packages (from requests->-r requirements.txt (line 8)) (3.0.4)\n",
            "Requirement already satisfied: idna<2.9,>=2.5 in /usr/local/lib/python2.7/dist-packages (from requests->-r requirements.txt (line 8)) (2.8)\n",
            "Requirement already satisfied: mbed-os-tools<0.1.0,>=0.0.9 in /usr/local/lib/python2.7/dist-packages (from mbed-ls>=0.2.13->-r requirements.txt (line 9)) (0.0.10)\n",
            "Requirement already satisfied: appdirs<2.0,>=1.4 in /usr/local/lib/python2.7/dist-packages (from mbed-os-tools<0.1.0,>=0.0.9->mbed-ls>=0.2.13->-r requirements.txt (line 9)) (1.4.3)\n",
            "Requirement already satisfied: fasteners in /usr/local/lib/python2.7/dist-packages (from mbed-os-tools<0.1.0,>=0.0.9->mbed-ls>=0.2.13->-r requirements.txt (line 9)) (0.15)\n",
            "Requirement already satisfied: lockfile in /usr/local/lib/python2.7/dist-packages (from mbed-os-tools<0.1.0,>=0.0.9->mbed-ls>=0.2.13->-r requirements.txt (line 9)) (0.12.2)\n",
            "Requirement already satisfied: future in /usr/local/lib/python2.7/dist-packages (from mbed-os-tools<0.1.0,>=0.0.9->mbed-ls>=0.2.13->-r requirements.txt (line 9)) (0.16.0)\n",
            "Requirement already satisfied: monotonic>=0.1 in /usr/local/lib/python2.7/dist-packages (from fasteners->mbed-os-tools<0.1.0,>=0.0.9->mbed-ls>=0.2.13->-r requirements.txt (line 9)) (1.5)\n"
          ],
          "name": "stdout"
        }
      ]
    },
    {
      "cell_type": "code",
      "metadata": {
        "id": "_KZnWgPCM-e0",
        "colab_type": "code",
        "colab": {
          "base_uri": "https://localhost:8080/",
          "height": 70
        },
        "outputId": "23cb9e57-3799-4feb-f9b4-7d47f1c69c18"
      },
      "source": [
        "!pip install jsonschema"
      ],
      "execution_count": 12,
      "outputs": [
        {
          "output_type": "stream",
          "text": [
            "Requirement already satisfied: jsonschema in /usr/local/lib/python2.7/dist-packages (2.6.0)\n",
            "Requirement already satisfied: functools32; python_version == \"2.7\" in /usr/local/lib/python2.7/dist-packages (from jsonschema) (3.2.3.post2)\n"
          ],
          "name": "stdout"
        }
      ]
    },
    {
      "cell_type": "code",
      "metadata": {
        "id": "Bgav2qemNDLE",
        "colab_type": "code",
        "colab": {
          "base_uri": "https://localhost:8080/",
          "height": 205
        },
        "outputId": "15e82798-411e-45cd-cb56-0abeb0b71315"
      },
      "source": [
        "!pip install pyelftools"
      ],
      "execution_count": 13,
      "outputs": [
        {
          "output_type": "stream",
          "text": [
            "Collecting pyelftools\n",
            "\u001b[?25l  Downloading https://files.pythonhosted.org/packages/fa/9a/0674cb1725196568bdbca98304f2efb17368b57af1a4bb3fc772c026f474/pyelftools-0.25.tar.gz (499kB)\n",
            "\r\u001b[K     |▋                               | 10kB 15.4MB/s eta 0:00:01\r\u001b[K     |█▎                              | 20kB 6.2MB/s eta 0:00:01\r\u001b[K     |██                              | 30kB 8.6MB/s eta 0:00:01\r\u001b[K     |██▋                             | 40kB 5.7MB/s eta 0:00:01\r\u001b[K     |███▎                            | 51kB 6.9MB/s eta 0:00:01\r\u001b[K     |████                            | 61kB 8.1MB/s eta 0:00:01\r\u001b[K     |████▋                           | 71kB 9.2MB/s eta 0:00:01\r\u001b[K     |█████▎                          | 81kB 10.1MB/s eta 0:00:01\r\u001b[K     |██████                          | 92kB 11.0MB/s eta 0:00:01\r\u001b[K     |██████▋                         | 102kB 8.9MB/s eta 0:00:01\r\u001b[K     |███████▏                        | 112kB 8.9MB/s eta 0:00:01\r\u001b[K     |███████▉                        | 122kB 8.9MB/s eta 0:00:01\r\u001b[K     |████████▌                       | 133kB 8.9MB/s eta 0:00:01\r\u001b[K     |█████████▏                      | 143kB 8.9MB/s eta 0:00:01\r\u001b[K     |█████████▉                      | 153kB 8.9MB/s eta 0:00:01\r\u001b[K     |██████████▌                     | 163kB 8.9MB/s eta 0:00:01\r\u001b[K     |███████████▏                    | 174kB 8.9MB/s eta 0:00:01\r\u001b[K     |███████████▉                    | 184kB 8.9MB/s eta 0:00:01\r\u001b[K     |████████████▌                   | 194kB 8.9MB/s eta 0:00:01\r\u001b[K     |█████████████▏                  | 204kB 8.9MB/s eta 0:00:01\r\u001b[K     |█████████████▊                  | 215kB 8.9MB/s eta 0:00:01\r\u001b[K     |██████████████▍                 | 225kB 8.9MB/s eta 0:00:01\r\u001b[K     |███████████████                 | 235kB 8.9MB/s eta 0:00:01\r\u001b[K     |███████████████▊                | 245kB 8.9MB/s eta 0:00:01\r\u001b[K     |████████████████▍               | 256kB 8.9MB/s eta 0:00:01\r\u001b[K     |█████████████████               | 266kB 8.9MB/s eta 0:00:01\r\u001b[K     |█████████████████▊              | 276kB 8.9MB/s eta 0:00:01\r\u001b[K     |██████████████████▍             | 286kB 8.9MB/s eta 0:00:01\r\u001b[K     |███████████████████             | 296kB 8.9MB/s eta 0:00:01\r\u001b[K     |███████████████████▊            | 307kB 8.9MB/s eta 0:00:01\r\u001b[K     |████████████████████▍           | 317kB 8.9MB/s eta 0:00:01\r\u001b[K     |█████████████████████           | 327kB 8.9MB/s eta 0:00:01\r\u001b[K     |█████████████████████▋          | 337kB 8.9MB/s eta 0:00:01\r\u001b[K     |██████████████████████▎         | 348kB 8.9MB/s eta 0:00:01\r\u001b[K     |███████████████████████         | 358kB 8.9MB/s eta 0:00:01\r\u001b[K     |███████████████████████▋        | 368kB 8.9MB/s eta 0:00:01\r\u001b[K     |████████████████████████▎       | 378kB 8.9MB/s eta 0:00:01\r\u001b[K     |█████████████████████████       | 389kB 8.9MB/s eta 0:00:01\r\u001b[K     |█████████████████████████▋      | 399kB 8.9MB/s eta 0:00:01\r\u001b[K     |██████████████████████████▎     | 409kB 8.9MB/s eta 0:00:01\r\u001b[K     |███████████████████████████     | 419kB 8.9MB/s eta 0:00:01\r\u001b[K     |███████████████████████████▌    | 430kB 8.9MB/s eta 0:00:01\r\u001b[K     |████████████████████████████▏   | 440kB 8.9MB/s eta 0:00:01\r\u001b[K     |████████████████████████████▉   | 450kB 8.9MB/s eta 0:00:01\r\u001b[K     |█████████████████████████████▌  | 460kB 8.9MB/s eta 0:00:01\r\u001b[K     |██████████████████████████████▏ | 471kB 8.9MB/s eta 0:00:01\r\u001b[K     |██████████████████████████████▉ | 481kB 8.9MB/s eta 0:00:01\r\u001b[K     |███████████████████████████████▌| 491kB 8.9MB/s eta 0:00:01\r\u001b[K     |████████████████████████████████| 501kB 8.9MB/s \n",
            "\u001b[?25hBuilding wheels for collected packages: pyelftools\n",
            "  Building wheel for pyelftools (setup.py) ... \u001b[?25l\u001b[?25hdone\n",
            "  Created wheel for pyelftools: filename=pyelftools-0.25-py2.py3-none-any.whl size=125333 sha256=4032bbea74646678b4484a246f29c750c0bd5b7102a638cff550a5041693e603\n",
            "  Stored in directory: /root/.cache/pip/wheels/55/2f/15/4ce6885a52f475de68c16f3116a94d2156d588390cdb6c507c\n",
            "Successfully built pyelftools\n",
            "Installing collected packages: pyelftools\n",
            "Successfully installed pyelftools-0.25\n"
          ],
          "name": "stdout"
        }
      ]
    },
    {
      "cell_type": "code",
      "metadata": {
        "id": "VVRz5nj7NNKT",
        "colab_type": "code",
        "colab": {
          "base_uri": "https://localhost:8080/",
          "height": 34
        },
        "outputId": "0a349c33-f073-4b1c-cc09-4571530288b3"
      },
      "source": [
        "pwd"
      ],
      "execution_count": 17,
      "outputs": [
        {
          "output_type": "execute_result",
          "data": {
            "text/plain": [
              "u'/content/CMSISNN_Webinar/cmsisnn_demo/.temp/tools'"
            ]
          },
          "metadata": {
            "tags": []
          },
          "execution_count": 17
        }
      ]
    },
    {
      "cell_type": "code",
      "metadata": {
        "id": "bEs0ptS7N4-2",
        "colab_type": "code",
        "colab": {
          "base_uri": "https://localhost:8080/",
          "height": 34
        },
        "outputId": "060a2d13-8f35-40a8-a2ab-1c2e780b922f"
      },
      "source": [
        "cd -1"
      ],
      "execution_count": 23,
      "outputs": [
        {
          "output_type": "stream",
          "text": [
            "/content/CMSISNN_Webinar\n"
          ],
          "name": "stdout"
        }
      ]
    },
    {
      "cell_type": "code",
      "metadata": {
        "id": "K1hqAxaNOS1O",
        "colab_type": "code",
        "colab": {
          "base_uri": "https://localhost:8080/",
          "height": 34
        },
        "outputId": "4d15f1dd-cec0-4ddb-e279-2393860c9d3c"
      },
      "source": [
        "cd cmsisnn_demo"
      ],
      "execution_count": 24,
      "outputs": [
        {
          "output_type": "stream",
          "text": [
            "/content/CMSISNN_Webinar/cmsisnn_demo\n"
          ],
          "name": "stdout"
        }
      ]
    },
    {
      "cell_type": "code",
      "metadata": {
        "id": "duiU8LJ4OXoD",
        "colab_type": "code",
        "colab": {
          "base_uri": "https://localhost:8080/",
          "height": 67
        },
        "outputId": "a0908236-8853-45f2-cfb8-fff6acb947d8"
      },
      "source": [
        "!mbed add http://os.mbed.com/teams/ST/code/BSP_DISCO_F746NG/"
      ],
      "execution_count": 25,
      "outputs": [
        {
          "output_type": "stream",
          "text": [
            "[mbed] Working path \"/content/CMSISNN_Webinar/cmsisnn_demo\" (program)\n",
            "[mbed] Adding library \"BSP_DISCO_F746NG\" from \"https://os.mbed.com/teams/ST/code/BSP_DISCO_F746NG\" at latest revision in the current branch\n",
            "[mbed] Updating reference \"BSP_DISCO_F746NG\" -> \"https://os.mbed.com/teams/ST/code/BSP_DISCO_F746NG/#df2ea349c37a\"\n"
          ],
          "name": "stdout"
        }
      ]
    },
    {
      "cell_type": "code",
      "metadata": {
        "id": "bVUdjLg3Og6g",
        "colab_type": "code",
        "colab": {
          "base_uri": "https://localhost:8080/",
          "height": 67
        },
        "outputId": "32cbdc50-88fe-4e45-8a4f-bed3df1fab23"
      },
      "source": [
        "!mbed add http://os.mbed.com/teams/ST/code/LCD_DISCO_F746NG"
      ],
      "execution_count": 26,
      "outputs": [
        {
          "output_type": "stream",
          "text": [
            "[mbed] Working path \"/content/CMSISNN_Webinar/cmsisnn_demo\" (program)\n",
            "[mbed] Adding library \"LCD_DISCO_F746NG\" from \"https://os.mbed.com/teams/ST/code/LCD_DISCO_F746NG\" at latest revision in the current branch\n",
            "[mbed] Updating reference \"LCD_DISCO_F746NG\" -> \"https://os.mbed.com/teams/ST/code/LCD_DISCO_F746NG/#d44525b1de98\"\n"
          ],
          "name": "stdout"
        }
      ]
    },
    {
      "cell_type": "code",
      "metadata": {
        "id": "oKBBqWsOOxPs",
        "colab_type": "code",
        "colab": {
          "base_uri": "https://localhost:8080/",
          "height": 50
        },
        "outputId": "4feb4e66-c1e9-4e11-e72c-1f6418a43e75"
      },
      "source": [
        "ls"
      ],
      "execution_count": 27,
      "outputs": [
        {
          "output_type": "stream",
          "text": [
            "\u001b[0m\u001b[01;34mBSP_DISCO_F746NG\u001b[0m/     \u001b[01;34mLCD_DISCO_F746NG\u001b[0m/     \u001b[01;34mmbed\u001b[0m/          mbed.bld\n",
            "BSP_DISCO_F746NG.lib  LCD_DISCO_F746NG.lib  mbed_app.json  mbed_settings.py\n"
          ],
          "name": "stdout"
        }
      ]
    },
    {
      "cell_type": "code",
      "metadata": {
        "id": "q_IH45YlP9hQ",
        "colab_type": "code",
        "colab": {
          "base_uri": "https://localhost:8080/",
          "height": 34
        },
        "outputId": "b023f9c5-411b-45cd-a3bd-8734ebf40c31"
      },
      "source": [
        "!cat mbed.bld"
      ],
      "execution_count": 39,
      "outputs": [
        {
          "output_type": "stream",
          "text": [
            "https://mbed.org/users/mbed_official/code/mbed/builds/65be27845400\n"
          ],
          "name": "stdout"
        }
      ]
    },
    {
      "cell_type": "code",
      "metadata": {
        "id": "wfIoIFxcRSJH",
        "colab_type": "code",
        "colab": {
          "base_uri": "https://localhost:8080/",
          "height": 34
        },
        "outputId": "9b79151e-fafd-42ce-e976-c1ae1404a1c3"
      },
      "source": [
        "%%writefile mbed.bld\n",
        "https://mbed.org/users/mbed_official/code/mbed/builds/e95d10626187"
      ],
      "execution_count": 40,
      "outputs": [
        {
          "output_type": "stream",
          "text": [
            "Overwriting mbed.bld\n"
          ],
          "name": "stdout"
        }
      ]
    },
    {
      "cell_type": "code",
      "metadata": {
        "id": "7L-RwyBmR9LN",
        "colab_type": "code",
        "colab": {
          "base_uri": "https://localhost:8080/",
          "height": 134
        },
        "outputId": "881deeba-7fa3-4b2a-c241-f2e8fb647ce0"
      },
      "source": [
        "!mbed deploy"
      ],
      "execution_count": 41,
      "outputs": [
        {
          "output_type": "stream",
          "text": [
            "[mbed] Working path \"/content/CMSISNN_Webinar/cmsisnn_demo\" (program)\n",
            "[mbed] Updating library \"mbed\" to rev #e95d10626187\n",
            "[mbed] Downloading library build \"e95d10626187\" (might take a while)\n",
            "[mbed] Unpacking library build \"e95d10626187\" in \"/content/CMSISNN_Webinar/cmsisnn_demo/mbed\"\n",
            "[mbed] Updating library \"LCD_DISCO_F746NG\" to rev #d44525b1de98 (tag: tip)\n",
            "[mbed] Updating library \"BSP_DISCO_F746NG\" to rev #df2ea349c37a (tag: tip)\n",
            "[mbed] Updating the mbed 2.0 SDK tools...\n"
          ],
          "name": "stdout"
        }
      ]
    },
    {
      "cell_type": "code",
      "metadata": {
        "id": "9fC-3bWsTQFv",
        "colab_type": "code",
        "colab": {
          "base_uri": "https://localhost:8080/",
          "height": 34
        },
        "outputId": "8ae10db1-fc6a-471e-f832-657393f5a2d9"
      },
      "source": [
        "cd -1"
      ],
      "execution_count": 43,
      "outputs": [
        {
          "output_type": "stream",
          "text": [
            "/content/CMSISNN_Webinar\n"
          ],
          "name": "stdout"
        }
      ]
    },
    {
      "cell_type": "code",
      "metadata": {
        "id": "bS2ksVP0TXSc",
        "colab_type": "code",
        "colab": {
          "base_uri": "https://localhost:8080/",
          "height": 134
        },
        "outputId": "1b7b5d41-c4d7-4ff4-9671-f699df32bee7"
      },
      "source": [
        "!git clone https://github.com/ARM-software/ML-examples.git"
      ],
      "execution_count": 45,
      "outputs": [
        {
          "output_type": "stream",
          "text": [
            "Cloning into 'ML-examples'...\n",
            "remote: Enumerating objects: 22, done.\u001b[K\n",
            "remote: Counting objects: 100% (22/22), done.\u001b[K\n",
            "remote: Compressing objects: 100% (22/22), done.\u001b[K\n",
            "remote: Total 247 (delta 7), reused 7 (delta 0), pack-reused 225\u001b[K\n",
            "Receiving objects: 100% (247/247), 6.59 MiB | 4.59 MiB/s, done.\n",
            "Resolving deltas: 100% (112/112), done.\n"
          ],
          "name": "stdout"
        }
      ]
    },
    {
      "cell_type": "code",
      "metadata": {
        "id": "ZSns1tgLTeHn",
        "colab_type": "code",
        "colab": {
          "base_uri": "https://localhost:8080/",
          "height": 34
        },
        "outputId": "0b5539bd-92be-475a-c0ff-8e26f1cc7ea1"
      },
      "source": [
        "cd cmsisnn_demo/"
      ],
      "execution_count": 46,
      "outputs": [
        {
          "output_type": "stream",
          "text": [
            "/content/CMSISNN_Webinar/cmsisnn_demo\n"
          ],
          "name": "stdout"
        }
      ]
    },
    {
      "cell_type": "code",
      "metadata": {
        "id": "LZC3VigBTsRN",
        "colab_type": "code",
        "colab": {
          "base_uri": "https://localhost:8080/",
          "height": 390
        },
        "outputId": "ab14f273-7047-4882-bd0a-1a46e372b622"
      },
      "source": [
        "!mbed compile -m DISCO_F746NG -t GCC_ARM --source . --source ../ML-examples/cmsisnn-cifar10/camera_demo/camera_app/"
      ],
      "execution_count": 49,
      "outputs": [
        {
          "output_type": "stream",
          "text": [
            "[mbed] Working path \"/content/CMSISNN_Webinar/cmsisnn_demo\" (program)\n",
            "usage: make.py [-h] [-m MCU] [-t TOOLCHAIN] [--color] [--cflags CFLAGS]\n",
            "               [--asmflags ASMFLAGS] [--ldflags LDFLAGS] [-c]\n",
            "               [--profile PROFILE] [--app-config APP_CONFIG] [-p PROGRAM]\n",
            "               [-n PROGRAM] [-j JOBS] [-v] [--silent] [-D MACROS]\n",
            "               [-S [{matrix,toolchains,targets}]] [-f GENERAL_FILTER_REGEX]\n",
            "               [--stats-depth STATS_DEPTH] [--automated] [--host HOST_TEST]\n",
            "               [--extra EXTRA] [--peripherals PERIPHERALS]\n",
            "               [--dep DEPENDENCIES] [--source SOURCE_DIR]\n",
            "               [--duration DURATION] [--build BUILD_DIR] [-N ARTIFACT_NAME]\n",
            "               [--ignore IGNORE] [-d DISK] [-s SERIAL] [-b BAUD] [-L] [--rpc]\n",
            "               [--usb] [--dsp] [--testlib] [--build-data BUILD_DATA]\n",
            "               [-l LINKER_SCRIPT]\n",
            "make.py: error: Could not find executable for GCC_ARM.\n",
            "Currently set search path: No path set\n",
            "[mbed] ERROR: \"/usr/bin/python2\" returned error.\n",
            "       Code: 2\n",
            "       Path: \"/content/CMSISNN_Webinar/cmsisnn_demo\"\n",
            "       Command: \"/usr/bin/python2 -u /content/CMSISNN_Webinar/cmsisnn_demo/.temp/tools/make.py -t GCC_ARM -m DISCO_F746NG --source . --source ../ML-examples/cmsisnn-cifar10/camera_demo/camera_app/ --build ./BUILD/DISCO_F746NG/GCC_ARM\"\n",
            "       Tip: You could retry the last command with \"-v\" flag for verbose output\n",
            "---\n"
          ],
          "name": "stdout"
        }
      ]
    },
    {
      "cell_type": "code",
      "metadata": {
        "id": "uUzzpQfJbRyX",
        "colab_type": "code",
        "colab": {
          "base_uri": "https://localhost:8080/",
          "height": 34
        },
        "outputId": "cf7489e7-58f3-4ad6-ce46-a5562759b9d7"
      },
      "source": [
        "cd -2"
      ],
      "execution_count": 55,
      "outputs": [
        {
          "output_type": "stream",
          "text": [
            "/content/CMSISNN_Webinar/cmsisnn_demo/.temp/tools\n"
          ],
          "name": "stdout"
        }
      ]
    },
    {
      "cell_type": "code",
      "metadata": {
        "id": "EKkZa6LffBGg",
        "colab_type": "code",
        "colab": {
          "base_uri": "https://localhost:8080/",
          "height": 34
        },
        "outputId": "52bf6268-e7ee-4d3d-8089-8854a0487cc1"
      },
      "source": [
        "cd -1"
      ],
      "execution_count": 58,
      "outputs": [
        {
          "output_type": "stream",
          "text": [
            "/content/CMSISNN_Webinar\n"
          ],
          "name": "stdout"
        }
      ]
    },
    {
      "cell_type": "code",
      "metadata": {
        "id": "G0Q9OmlrfE5g",
        "colab_type": "code",
        "colab": {
          "base_uri": "https://localhost:8080/",
          "height": 34
        },
        "outputId": "95332d3f-3c91-429b-c2ba-58d5ef722022"
      },
      "source": [
        "cd -0"
      ],
      "execution_count": 60,
      "outputs": [
        {
          "output_type": "stream",
          "text": [
            "/content\n"
          ],
          "name": "stdout"
        }
      ]
    },
    {
      "cell_type": "code",
      "metadata": {
        "id": "i4t4_nJhfKJI",
        "colab_type": "code",
        "colab": {}
      },
      "source": [
        "mkdir GCC-ARM"
      ],
      "execution_count": 0,
      "outputs": []
    },
    {
      "cell_type": "code",
      "metadata": {
        "id": "EI7df1GifT2w",
        "colab_type": "code",
        "colab": {
          "base_uri": "https://localhost:8080/",
          "height": 34
        },
        "outputId": "fefb47bc-6ce9-479b-ee76-5f87fafa63c4"
      },
      "source": [
        "cd GCC-ARM"
      ],
      "execution_count": 62,
      "outputs": [
        {
          "output_type": "stream",
          "text": [
            "/content/GCC-ARM\n"
          ],
          "name": "stdout"
        }
      ]
    },
    {
      "cell_type": "code",
      "metadata": {
        "id": "r5cPo4hcfYQp",
        "colab_type": "code",
        "colab": {
          "base_uri": "https://localhost:8080/",
          "height": 306
        },
        "outputId": "af4076ec-1bec-4a37-fb2c-caac7403521c"
      },
      "source": [
        "!wget https://developer.arm.com/-/media/Files/downloads/gnu-rm/9-2019q4/RC2.1/gcc-arm-none-eabi-9-2019-q4-major-aarch64-linux.tar.bz2"
      ],
      "execution_count": 70,
      "outputs": [
        {
          "output_type": "stream",
          "text": [
            "--2019-11-10 18:28:52--  https://developer.arm.com/-/media/Files/downloads/gnu-rm/9-2019q4/RC2.1/gcc-arm-none-eabi-9-2019-q4-major-aarch64-linux.tar.bz2\n",
            "Resolving developer.arm.com (developer.arm.com)... 13.79.2.71\n",
            "Connecting to developer.arm.com (developer.arm.com)|13.79.2.71|:443... connected.\n",
            "HTTP request sent, awaiting response... 302 Found\n",
            "Location: https://armkeil.blob.core.windows.net/developer/Files/downloads/gnu-rm/9-2019q4/RC2.1/gcc-arm-none-eabi-9-2019-q4-major-aarch64-linux.tar.bz2 [following]\n",
            "--2019-11-10 18:28:53--  https://armkeil.blob.core.windows.net/developer/Files/downloads/gnu-rm/9-2019q4/RC2.1/gcc-arm-none-eabi-9-2019-q4-major-aarch64-linux.tar.bz2\n",
            "Resolving armkeil.blob.core.windows.net (armkeil.blob.core.windows.net)... 52.239.137.100\n",
            "Connecting to armkeil.blob.core.windows.net (armkeil.blob.core.windows.net)|52.239.137.100|:443... connected.\n",
            "HTTP request sent, awaiting response... 200 OK\n",
            "Length: 128670769 (123M) [application/octet-stream]\n",
            "Saving to: ‘gcc-arm-none-eabi-9-2019-q4-major-aarch64-linux.tar.bz2’\n",
            "\n",
            "gcc-arm-none-eabi-9 100%[===================>] 122.71M  42.5MB/s    in 2.9s    \n",
            "\n",
            "2019-11-10 18:28:56 (42.5 MB/s) - ‘gcc-arm-none-eabi-9-2019-q4-major-aarch64-linux.tar.bz2’ saved [128670769/128670769]\n",
            "\n"
          ],
          "name": "stdout"
        }
      ]
    },
    {
      "cell_type": "code",
      "metadata": {
        "id": "PRa9pQrilGf5",
        "colab_type": "code",
        "colab": {
          "base_uri": "https://localhost:8080/",
          "height": 34
        },
        "outputId": "8cad8f27-29da-4044-cd5d-70a19d7213ff"
      },
      "source": [
        "ls"
      ],
      "execution_count": 77,
      "outputs": [
        {
          "output_type": "stream",
          "text": [
            "gcc-arm-none-eabi-9-2019-q4-major-aarch64-linux.tar.bz2.gz\n"
          ],
          "name": "stdout"
        }
      ]
    },
    {
      "cell_type": "code",
      "metadata": {
        "id": "r_msX3h-lLCb",
        "colab_type": "code",
        "colab": {
          "base_uri": "https://localhost:8080/",
          "height": 34
        },
        "outputId": "9548a6ed-2165-453b-8266-1af0d54ac243"
      },
      "source": [
        "cd ~"
      ],
      "execution_count": 82,
      "outputs": [
        {
          "output_type": "stream",
          "text": [
            "/root\n"
          ],
          "name": "stdout"
        }
      ]
    },
    {
      "cell_type": "code",
      "metadata": {
        "id": "kL8l998dpr0U",
        "colab_type": "code",
        "colab": {
          "base_uri": "https://localhost:8080/",
          "height": 34
        },
        "outputId": "26a2e5bf-5cd5-462a-f07b-2abf0693c4af"
      },
      "source": [
        "cd /content"
      ],
      "execution_count": 87,
      "outputs": [
        {
          "output_type": "stream",
          "text": [
            "/content\n"
          ],
          "name": "stdout"
        }
      ]
    },
    {
      "cell_type": "code",
      "metadata": {
        "id": "G-GY6XqFp_KJ",
        "colab_type": "code",
        "colab": {
          "base_uri": "https://localhost:8080/",
          "height": 34
        },
        "outputId": "3b29f916-48f3-4e85-9296-21fe0807a4b5"
      },
      "source": [
        "ls"
      ],
      "execution_count": 88,
      "outputs": [
        {
          "output_type": "stream",
          "text": [
            "\u001b[0m\u001b[01;34mCMSISNN_Webinar\u001b[0m/  \u001b[01;34mGCC-ARM\u001b[0m/  \u001b[01;34msample_data\u001b[0m/\n"
          ],
          "name": "stdout"
        }
      ]
    },
    {
      "cell_type": "code",
      "metadata": {
        "id": "El-IEBQVqCDj",
        "colab_type": "code",
        "colab": {
          "base_uri": "https://localhost:8080/",
          "height": 34
        },
        "outputId": "9bbf38ff-265f-47a2-9b8e-06186ec5b711"
      },
      "source": [
        "cd GCC-ARM"
      ],
      "execution_count": 89,
      "outputs": [
        {
          "output_type": "stream",
          "text": [
            "/content/GCC-ARM\n"
          ],
          "name": "stdout"
        }
      ]
    },
    {
      "cell_type": "code",
      "metadata": {
        "id": "4zqfO3N0qF1b",
        "colab_type": "code",
        "colab": {
          "base_uri": "https://localhost:8080/",
          "height": 34
        },
        "outputId": "0226d953-6194-4bbf-d46a-3ab86f35181b"
      },
      "source": [
        "ls"
      ],
      "execution_count": 90,
      "outputs": [
        {
          "output_type": "stream",
          "text": [
            "gcc-arm-none-eabi-9-2019-q4-major-aarch64-linux.tar.bz2.gz\n"
          ],
          "name": "stdout"
        }
      ]
    },
    {
      "cell_type": "markdown",
      "metadata": {
        "id": "xYU-5TRr1cz-",
        "colab_type": "text"
      },
      "source": [
        ""
      ]
    },
    {
      "cell_type": "code",
      "metadata": {
        "id": "KzzzAQn40UwG",
        "colab_type": "code",
        "colab": {}
      },
      "source": [
        "!tar xjf gcc-arm-none-eabi-9-2019-q4-major-aarch64-linux.tar.bz2"
      ],
      "execution_count": 0,
      "outputs": []
    },
    {
      "cell_type": "code",
      "metadata": {
        "id": "j2mPUhLj2gBT",
        "colab_type": "code",
        "colab": {
          "base_uri": "https://localhost:8080/",
          "height": 50
        },
        "outputId": "86c9b2fd-5d83-4fc2-e4a3-fc12293b0c67"
      },
      "source": [
        "ls"
      ],
      "execution_count": 134,
      "outputs": [
        {
          "output_type": "stream",
          "text": [
            "\u001b[0m\u001b[01;34mgcc-arm-none-eabi-9-2019-q4-major\u001b[0m/\n",
            "gcc-arm-none-eabi-9-2019-q4-major-aarch64-linux.tar.bz2\n"
          ],
          "name": "stdout"
        }
      ]
    },
    {
      "cell_type": "code",
      "metadata": {
        "id": "mRRlCrmh4Z7e",
        "colab_type": "code",
        "colab": {
          "base_uri": "https://localhost:8080/",
          "height": 34
        },
        "outputId": "30c56676-21ee-4a85-c471-27035392bfa9"
      },
      "source": [
        "!mbed config -G GCC_ARM_PATH \"/content/GCC-ARM/gcc-arm-none-eabi-7-2017-q4-major/bin\""
      ],
      "execution_count": 136,
      "outputs": [
        {
          "output_type": "stream",
          "text": [
            "[mbed] /content/GCC-ARM/gcc-arm-none-eabi-7-2017-q4-major/bin now set as global GCC_ARM_PATH\n"
          ],
          "name": "stdout"
        }
      ]
    },
    {
      "cell_type": "code",
      "metadata": {
        "id": "DZ-Zl3Lk42jU",
        "colab_type": "code",
        "colab": {
          "base_uri": "https://localhost:8080/",
          "height": 134
        },
        "outputId": "4d2d0e6f-ee56-417d-eb2f-5be834916511"
      },
      "source": [
        "!mbed compile -m DISCO_F746NG -t GCC_ARM --source . --source ../ML-examples/cmsisnn-cifar10/camera_demo/camera_app/"
      ],
      "execution_count": 137,
      "outputs": [
        {
          "output_type": "stream",
          "text": [
            "[mbed] Working path \"/content/GCC-ARM\" (directory)\n",
            "[mbed] WARNING: Could not find mbed program in current path \"/content/GCC-ARM\".\n",
            "       You can fix this by calling \"mbed new .\" in the root of your program.\n",
            "---\n",
            "[mbed] ERROR: The mbed tools were not found in \"/content/GCC-ARM\". \n",
            "       You can run \"mbed deploy\" to install dependencies and tools.\n",
            "---\n"
          ],
          "name": "stdout"
        }
      ]
    },
    {
      "cell_type": "code",
      "metadata": {
        "id": "Wz2sGn-D5ATw",
        "colab_type": "code",
        "colab": {
          "base_uri": "https://localhost:8080/",
          "height": 34
        },
        "outputId": "a41f2e73-ed30-4e9e-a3cb-fcce9401a6b9"
      },
      "source": [
        "cd /content/CMSISNN_Webinar/cmsisnn_demo/.temp/tools"
      ],
      "execution_count": 138,
      "outputs": [
        {
          "output_type": "stream",
          "text": [
            "/content/CMSISNN_Webinar/cmsisnn_demo/.temp/tools\n"
          ],
          "name": "stdout"
        }
      ]
    },
    {
      "cell_type": "code",
      "metadata": {
        "id": "jKVkhNMS5CvO",
        "colab_type": "code",
        "colab": {
          "base_uri": "https://localhost:8080/",
          "height": 34
        },
        "outputId": "fff0453d-3910-4b98-f4e7-c12391cf0a74"
      },
      "source": [
        "cd cmsisnn_demo"
      ],
      "execution_count": 143,
      "outputs": [
        {
          "output_type": "stream",
          "text": [
            "/content/CMSISNN_Webinar/cmsisnn_demo\n"
          ],
          "name": "stdout"
        }
      ]
    },
    {
      "cell_type": "code",
      "metadata": {
        "id": "BiXkovQE5ola",
        "colab_type": "code",
        "colab": {
          "base_uri": "https://localhost:8080/",
          "height": 67
        },
        "outputId": "74056f3d-1a4a-40bc-fbea-d20e788282df"
      },
      "source": [
        "ls"
      ],
      "execution_count": 144,
      "outputs": [
        {
          "output_type": "stream",
          "text": [
            "\u001b[0m\u001b[01;34mBSP_DISCO_F746NG\u001b[0m/     \u001b[01;34mLCD_DISCO_F746NG\u001b[0m/     mbed_app.json     mbed_settings.pyc\n",
            "BSP_DISCO_F746NG.lib  LCD_DISCO_F746NG.lib  mbed.bld\n",
            "\u001b[01;34mBUILD\u001b[0m/                \u001b[01;34mmbed\u001b[0m/                 mbed_settings.py\n"
          ],
          "name": "stdout"
        }
      ]
    },
    {
      "cell_type": "code",
      "metadata": {
        "id": "swMSX7Di5uMw",
        "colab_type": "code",
        "colab": {
          "base_uri": "https://localhost:8080/",
          "height": 406
        },
        "outputId": "f1832656-b10c-4e8d-ef0e-b69574d15ba6"
      },
      "source": [
        "!mbed compile -m DISCO_F746NG -t GCC_ARM --source . --source ../ML-examples/cmsisnn-cifar10/camera_demo/camera_app/"
      ],
      "execution_count": 145,
      "outputs": [
        {
          "output_type": "stream",
          "text": [
            "[mbed] Working path \"/content/CMSISNN_Webinar/cmsisnn_demo\" (program)\n",
            "WARNING: MBED_GCC_ARM_PATH set as environment variable but doesn't exist\n",
            "usage: make.py [-h] [-m MCU] [-t TOOLCHAIN] [--color] [--cflags CFLAGS]\n",
            "               [--asmflags ASMFLAGS] [--ldflags LDFLAGS] [-c]\n",
            "               [--profile PROFILE] [--app-config APP_CONFIG] [-p PROGRAM]\n",
            "               [-n PROGRAM] [-j JOBS] [-v] [--silent] [-D MACROS]\n",
            "               [-S [{matrix,toolchains,targets}]] [-f GENERAL_FILTER_REGEX]\n",
            "               [--stats-depth STATS_DEPTH] [--automated] [--host HOST_TEST]\n",
            "               [--extra EXTRA] [--peripherals PERIPHERALS]\n",
            "               [--dep DEPENDENCIES] [--source SOURCE_DIR]\n",
            "               [--duration DURATION] [--build BUILD_DIR] [-N ARTIFACT_NAME]\n",
            "               [--ignore IGNORE] [-d DISK] [-s SERIAL] [-b BAUD] [-L] [--rpc]\n",
            "               [--usb] [--dsp] [--testlib] [--build-data BUILD_DATA]\n",
            "               [-l LINKER_SCRIPT]\n",
            "make.py: error: Could not find executable for GCC_ARM.\n",
            "Currently set search path: No path set\n",
            "[mbed] ERROR: \"/usr/bin/python2\" returned error.\n",
            "       Code: 2\n",
            "       Path: \"/content/CMSISNN_Webinar/cmsisnn_demo\"\n",
            "       Command: \"/usr/bin/python2 -u /content/CMSISNN_Webinar/cmsisnn_demo/.temp/tools/make.py -t GCC_ARM -m DISCO_F746NG --source . --source ../ML-examples/cmsisnn-cifar10/camera_demo/camera_app/ --build ./BUILD/DISCO_F746NG/GCC_ARM\"\n",
            "       Tip: You could retry the last command with \"-v\" flag for verbose output\n",
            "---\n"
          ],
          "name": "stdout"
        }
      ]
    },
    {
      "cell_type": "code",
      "metadata": {
        "id": "8Ctr6vNo8W-G",
        "colab_type": "code",
        "colab": {
          "base_uri": "https://localhost:8080/",
          "height": 34
        },
        "outputId": "bae537e9-3cf0-4bc0-cdc6-25f5582eef94"
      },
      "source": [
        "%%writefile mbed_settings.py\n",
        "\"\"\"\n",
        "mbed SDK\n",
        "Copyright (c) 2016 ARM Limited\n",
        "\n",
        "Licensed under the Apache License, Version 2.0 (the \"License\");\n",
        "you may not use this file except in compliance with the License.\n",
        "You may obtain a copy of the License at\n",
        "\n",
        "http://www.apache.org/licenses/LICENSE-2.0\n",
        "\n",
        "Unless required by applicable law or agreed to in writing, software\n",
        "distributed under the License is distributed on an \"AS IS\" BASIS,\n",
        "WITHOUT WARRANTIES OR CONDITIONS OF ANY KIND, either express or implied.\n",
        "See the License for the specific language governing permissions and\n",
        "limitations under the License.\n",
        "\"\"\"\n",
        "\n",
        "from os.path import join, abspath, dirname\n",
        "\n",
        "#ROOT = abspath(join(dirname(__file__), \".\"))\n",
        "\n",
        "##############################################################################\n",
        "# Build System Settings\n",
        "##############################################################################\n",
        "#BUILD_DIR = abspath(join(ROOT, \"build\"))\n",
        "\n",
        "# ARM\n",
        "#ARM_PATH = \"../content/GCC-ARM/gcc-arm-none-eabi-9-2019-q4-major\\bin\"\n",
        "\n",
        "# GCC ARM\n",
        "#GCC_ARM_PATH = \"../content/GCC-ARM/gcc-arm-none-eabi-9-2019-q4-major\\bin\"\n",
        "\n",
        "# GCC CodeRed\n",
        "#GCC_CR_PATH = \"../content/GCC-ARM/gcc-arm-none-eabi-9-2019-q4-major\\bin\"\n",
        "\n",
        "# IAR\n",
        "#IAR_PATH = \"\"\n",
        "\n",
        "# Goanna static analyser. Please overload it in private_settings.py\n",
        "#GOANNA_PATH = \"\"\n",
        "\n",
        "#BUILD_OPTIONS = []\n",
        "\n",
        "# mbed.org username\n",
        "#MBED_ORG_USER = \"\"\n",
        "\n",
        "# Print compiler warnings and errors as link format\n",
        "#PRINT_COMPILER_OUTPUT_AS_LINK = False"
      ],
      "execution_count": 261,
      "outputs": [
        {
          "output_type": "stream",
          "text": [
            "Overwriting mbed_settings.py\n"
          ],
          "name": "stdout"
        }
      ]
    },
    {
      "cell_type": "code",
      "metadata": {
        "id": "PV-TsUQN9buX",
        "colab_type": "code",
        "colab": {
          "base_uri": "https://localhost:8080/",
          "height": 823
        },
        "outputId": "c18294ce-3f5a-4723-ebff-72aebb7fa349"
      },
      "source": [
        "!cat mbed_settings.py"
      ],
      "execution_count": 297,
      "outputs": [
        {
          "output_type": "stream",
          "text": [
            "\"\"\"\n",
            "mbed SDK\n",
            "Copyright (c) 2016 ARM Limited\n",
            "\n",
            "Licensed under the Apache License, Version 2.0 (the \"License\");\n",
            "you may not use this file except in compliance with the License.\n",
            "You may obtain a copy of the License at\n",
            "\n",
            "http://www.apache.org/licenses/LICENSE-2.0\n",
            "\n",
            "Unless required by applicable law or agreed to in writing, software\n",
            "distributed under the License is distributed on an \"AS IS\" BASIS,\n",
            "WITHOUT WARRANTIES OR CONDITIONS OF ANY KIND, either express or implied.\n",
            "See the License for the specific language governing permissions and\n",
            "limitations under the License.\n",
            "\"\"\"\n",
            "\n",
            "from os.path import join, abspath, dirname\n",
            "\n",
            "#ROOT = abspath(join(dirname(__file__), \".\"))\n",
            "\n",
            "##############################################################################\n",
            "# Build System Settings\n",
            "##############################################################################\n",
            "#BUILD_DIR = abspath(join(ROOT, \"build\"))\n",
            "\n",
            "# ARM\n",
            "#ARM_PATH = \"../content/GCC-ARM/gcc-arm-none-eabi-9-2019-q4-major\\bin\"\n",
            "\n",
            "# GCC ARM\n",
            "#GCC_ARM_PATH = \"../content/GCC-ARM/gcc-arm-none-eabi-9-2019-q4-major\\bin\"\n",
            "\n",
            "# GCC CodeRed\n",
            "#GCC_CR_PATH = \"../content/GCC-ARM/gcc-arm-none-eabi-9-2019-q4-major\\bin\"\n",
            "\n",
            "# IAR\n",
            "#IAR_PATH = \"\"\n",
            "\n",
            "# Goanna static analyser. Please overload it in private_settings.py\n",
            "#GOANNA_PATH = \"\"\n",
            "\n",
            "#BUILD_OPTIONS = []\n",
            "\n",
            "# mbed.org username\n",
            "#MBED_ORG_USER = \"\"\n",
            "\n",
            "# Print compiler warnings and errors as link format\n",
            "#PRINT_COMPILER_OUTPUT_AS_LINK = False"
          ],
          "name": "stdout"
        }
      ]
    },
    {
      "cell_type": "markdown",
      "metadata": {
        "id": "yCfAoiQ8Hwo-",
        "colab_type": "text"
      },
      "source": [
        ""
      ]
    },
    {
      "cell_type": "code",
      "metadata": {
        "id": "4luJtyzm_v5x",
        "colab_type": "code",
        "colab": {
          "base_uri": "https://localhost:8080/",
          "height": 34
        },
        "outputId": "789472b2-0d88-4a8a-bbc9-f5450d05abc9"
      },
      "source": [
        "pwd"
      ],
      "execution_count": 157,
      "outputs": [
        {
          "output_type": "execute_result",
          "data": {
            "text/plain": [
              "u'/content/CMSISNN_Webinar/cmsisnn_demo'"
            ]
          },
          "metadata": {
            "tags": []
          },
          "execution_count": 157
        }
      ]
    },
    {
      "cell_type": "code",
      "metadata": {
        "id": "ZUw_DExX_zww",
        "colab_type": "code",
        "colab": {
          "base_uri": "https://localhost:8080/",
          "height": 34
        },
        "outputId": "b51d52a4-17c8-4e0c-f4e3-e57335a8af94"
      },
      "source": [
        "cd GCC-ARM"
      ],
      "execution_count": 167,
      "outputs": [
        {
          "output_type": "stream",
          "text": [
            "/content/GCC-ARM\n"
          ],
          "name": "stdout"
        }
      ]
    },
    {
      "cell_type": "code",
      "metadata": {
        "id": "L59DRx-YAHts",
        "colab_type": "code",
        "colab": {
          "base_uri": "https://localhost:8080/",
          "height": 50
        },
        "outputId": "a7166362-eb8c-40c5-d3af-92be0d83e9ce"
      },
      "source": [
        "ls"
      ],
      "execution_count": 168,
      "outputs": [
        {
          "output_type": "stream",
          "text": [
            "\u001b[0m\u001b[01;34mgcc-arm-none-eabi-9-2019-q4-major\u001b[0m/\n",
            "gcc-arm-none-eabi-9-2019-q4-major-aarch64-linux.tar.bz2\n"
          ],
          "name": "stdout"
        }
      ]
    },
    {
      "cell_type": "code",
      "metadata": {
        "id": "xa8OOCpqAK8I",
        "colab_type": "code",
        "colab": {
          "base_uri": "https://localhost:8080/",
          "height": 34
        },
        "outputId": "a8d1822e-d652-4feb-c012-84ecfa14d869"
      },
      "source": [
        "cd gcc-arm-none-eabi-9-2019-q4-major/"
      ],
      "execution_count": 169,
      "outputs": [
        {
          "output_type": "stream",
          "text": [
            "/content/GCC-ARM/gcc-arm-none-eabi-9-2019-q4-major\n"
          ],
          "name": "stdout"
        }
      ]
    },
    {
      "cell_type": "code",
      "metadata": {
        "id": "cTbH-30-ATWP",
        "colab_type": "code",
        "colab": {
          "base_uri": "https://localhost:8080/",
          "height": 34
        },
        "outputId": "7a2651fc-19a7-4494-9541-15682415784e"
      },
      "source": [
        "cd ."
      ],
      "execution_count": 173,
      "outputs": [
        {
          "output_type": "stream",
          "text": [
            "/content/GCC-ARM/gcc-arm-none-eabi-9-2019-q4-major/arm-none-eabi\n"
          ],
          "name": "stdout"
        }
      ]
    },
    {
      "cell_type": "code",
      "metadata": {
        "id": "sU8piMN2BtKy",
        "colab_type": "code",
        "colab": {
          "base_uri": "https://localhost:8080/",
          "height": 34
        },
        "outputId": "c4767cc6-1f1f-42b4-dac6-21c0196ae67c"
      },
      "source": [
        "cd CMSISNN_Webinar/cmsisnn_demo"
      ],
      "execution_count": 186,
      "outputs": [
        {
          "output_type": "stream",
          "text": [
            "/content/CMSISNN_Webinar/cmsisnn_demo\n"
          ],
          "name": "stdout"
        }
      ]
    },
    {
      "cell_type": "code",
      "metadata": {
        "id": "nrVUxSlCCPMQ",
        "colab_type": "code",
        "colab": {
          "base_uri": "https://localhost:8080/",
          "height": 34
        },
        "outputId": "c54a52d8-f885-4ea9-f244-2bb67d5f2686"
      },
      "source": [
        "ls /content/GCC-ARM/gcc-arm-none-eabi-9-2019-q4-major/arm-none-eabi"
      ],
      "execution_count": 237,
      "outputs": [
        {
          "output_type": "stream",
          "text": [
            "\u001b[0m\u001b[01;34mbin\u001b[0m/  \u001b[01;34minclude\u001b[0m/  \u001b[01;34mlib\u001b[0m/  mbed_settings.py  \u001b[01;34mshare\u001b[0m/\n"
          ],
          "name": "stdout"
        }
      ]
    },
    {
      "cell_type": "code",
      "metadata": {
        "id": "5XXABb6EFJn-",
        "colab_type": "code",
        "colab": {
          "base_uri": "https://localhost:8080/",
          "height": 118
        },
        "outputId": "3bb66762-44a5-4baa-e779-636766facc8e"
      },
      "source": [
        "!mbed config --list"
      ],
      "execution_count": 305,
      "outputs": [
        {
          "output_type": "stream",
          "text": [
            "[mbed] Global config:\n",
            "GCC_ARM_PATH=/content/GCC-ARM/gcc-arm-none-eabi-9-2019-q4-major/bin\n",
            "TOOLCHAIN=GCC_ARM\n",
            "\n",
            "[mbed] Local config (/content/CMSISNN_Webinar/cmsisnn_demo):\n",
            "TOOLCHAIN=GCC_ARM\n"
          ],
          "name": "stdout"
        }
      ]
    },
    {
      "cell_type": "code",
      "metadata": {
        "id": "B2mbPT2WWhoA",
        "colab_type": "code",
        "colab": {
          "base_uri": "https://localhost:8080/",
          "height": 34
        },
        "outputId": "92731a39-439f-406f-8ff1-353c40b7c68f"
      },
      "source": [
        "!mbed config -G GCC_ARM_PATH \"/content/GCC-ARM/gcc-arm-none-eabi-9-2019-q4-major/bin\""
      ],
      "execution_count": 304,
      "outputs": [
        {
          "output_type": "stream",
          "text": [
            "[mbed] /content/GCC-ARM/gcc-arm-none-eabi-9-2019-q4-major/bin now set as global GCC_ARM_PATH\n"
          ],
          "name": "stdout"
        }
      ]
    },
    {
      "cell_type": "code",
      "metadata": {
        "id": "oaixDIc6ZCGU",
        "colab_type": "code",
        "colab": {
          "base_uri": "https://localhost:8080/",
          "height": 118
        },
        "outputId": "b23f51e6-f646-4d59-fea6-43a0df519ed7"
      },
      "source": [
        "!pip uninstall werkzeug"
      ],
      "execution_count": 307,
      "outputs": [
        {
          "output_type": "stream",
          "text": [
            "Uninstalling Werkzeug-0.15.5:\n",
            "  Would remove:\n",
            "    /usr/local/lib/python2.7/dist-packages/Werkzeug-0.15.5.dist-info/*\n",
            "    /usr/local/lib/python2.7/dist-packages/werkzeug/*\n",
            "Proceed (y/n)? y\n",
            "  Successfully uninstalled Werkzeug-0.15.5\n"
          ],
          "name": "stdout"
        }
      ]
    },
    {
      "cell_type": "code",
      "metadata": {
        "id": "_jxPlJNCZIJV",
        "colab_type": "code",
        "colab": {
          "base_uri": "https://localhost:8080/",
          "height": 154
        },
        "outputId": "5398dd8c-ef8b-4b0a-9ebe-194cc63852e2"
      },
      "source": [
        "!pip install --upgrade werkzeug==0.14.1"
      ],
      "execution_count": 308,
      "outputs": [
        {
          "output_type": "stream",
          "text": [
            "Collecting werkzeug==0.14.1\n",
            "\u001b[?25l  Downloading https://files.pythonhosted.org/packages/20/c4/12e3e56473e52375aa29c4764e70d1b8f3efa6682bef8d0aae04fe335243/Werkzeug-0.14.1-py2.py3-none-any.whl (322kB)\n",
            "\r\u001b[K     |█                               | 10kB 17.2MB/s eta 0:00:01\r\u001b[K     |██                              | 20kB 6.7MB/s eta 0:00:01\r\u001b[K     |███                             | 30kB 9.4MB/s eta 0:00:01\r\u001b[K     |████                            | 40kB 5.8MB/s eta 0:00:01\r\u001b[K     |█████                           | 51kB 7.1MB/s eta 0:00:01\r\u001b[K     |██████                          | 61kB 8.3MB/s eta 0:00:01\r\u001b[K     |███████                         | 71kB 9.4MB/s eta 0:00:01\r\u001b[K     |████████▏                       | 81kB 7.4MB/s eta 0:00:01\r\u001b[K     |█████████▏                      | 92kB 8.2MB/s eta 0:00:01\r\u001b[K     |██████████▏                     | 102kB 9.0MB/s eta 0:00:01\r\u001b[K     |███████████▏                    | 112kB 9.0MB/s eta 0:00:01\r\u001b[K     |████████████▏                   | 122kB 9.0MB/s eta 0:00:01\r\u001b[K     |█████████████▏                  | 133kB 9.0MB/s eta 0:00:01\r\u001b[K     |██████████████▏                 | 143kB 9.0MB/s eta 0:00:01\r\u001b[K     |███████████████▎                | 153kB 9.0MB/s eta 0:00:01\r\u001b[K     |████████████████▎               | 163kB 9.0MB/s eta 0:00:01\r\u001b[K     |█████████████████▎              | 174kB 9.0MB/s eta 0:00:01\r\u001b[K     |██████████████████▎             | 184kB 9.0MB/s eta 0:00:01\r\u001b[K     |███████████████████▎            | 194kB 9.0MB/s eta 0:00:01\r\u001b[K     |████████████████████▎           | 204kB 9.0MB/s eta 0:00:01\r\u001b[K     |█████████████████████▎          | 215kB 9.0MB/s eta 0:00:01\r\u001b[K     |██████████████████████▎         | 225kB 9.0MB/s eta 0:00:01\r\u001b[K     |███████████████████████▍        | 235kB 9.0MB/s eta 0:00:01\r\u001b[K     |████████████████████████▍       | 245kB 9.0MB/s eta 0:00:01\r\u001b[K     |█████████████████████████▍      | 256kB 9.0MB/s eta 0:00:01\r\u001b[K     |██████████████████████████▍     | 266kB 9.0MB/s eta 0:00:01\r\u001b[K     |███████████████████████████▍    | 276kB 9.0MB/s eta 0:00:01\r\u001b[K     |████████████████████████████▍   | 286kB 9.0MB/s eta 0:00:01\r\u001b[K     |█████████████████████████████▍  | 296kB 9.0MB/s eta 0:00:01\r\u001b[K     |██████████████████████████████▌ | 307kB 9.0MB/s eta 0:00:01\r\u001b[K     |███████████████████████████████▌| 317kB 9.0MB/s eta 0:00:01\r\u001b[K     |████████████████████████████████| 327kB 9.0MB/s \n",
            "\u001b[31mERROR: flask 1.1.1 has requirement Werkzeug>=0.15, but you'll have werkzeug 0.14.1 which is incompatible.\u001b[0m\n",
            "\u001b[31mERROR: tensorflow 1.15.0 has requirement tensorflow-estimator==1.15.1, but you'll have tensorflow-estimator 1.15.0 which is incompatible.\u001b[0m\n",
            "\u001b[?25hInstalling collected packages: werkzeug\n",
            "Successfully installed werkzeug-0.14.1\n"
          ],
          "name": "stdout"
        }
      ]
    },
    {
      "cell_type": "code",
      "metadata": {
        "id": "tnk4qdk_9mXA",
        "colab_type": "code",
        "colab": {
          "base_uri": "https://localhost:8080/",
          "height": 205
        },
        "outputId": "f3adc10c-fbdc-437c-acfb-72dd22167a54"
      },
      "source": [
        "!mbed compile -m DISCO_F746NG -t GCC_ARM --source . --source ../ML-examples/cmsisnn-cifar10/camera_demo/camera_app/"
      ],
      "execution_count": 310,
      "outputs": [
        {
          "output_type": "stream",
          "text": [
            "[mbed] Working path \"/content/CMSISNN_Webinar/cmsisnn_demo\" (program)\n",
            "Using targets from /content/CMSISNN_Webinar/cmsisnn_demo/mbed/e95d10626187/targets.json\n",
            "[OS ERROR] Command: /content/GCC-ARM/gcc-arm-none-eabi-9-2019-q4-major/bin/arm-none-eabi-gcc --version\n",
            "[ERROR] [Errno 8] Exec format error\n",
            "[mbed] ERROR: \"/usr/bin/python2\" returned error.\n",
            "       Code: 1\n",
            "       Path: \"/content/CMSISNN_Webinar/cmsisnn_demo\"\n",
            "       Command: \"/usr/bin/python2 -u /content/CMSISNN_Webinar/cmsisnn_demo/.temp/tools/make.py -t GCC_ARM -m DISCO_F746NG --source . --source ../ML-examples/cmsisnn-cifar10/camera_demo/camera_app/ --build ./BUILD/DISCO_F746NG/GCC_ARM\"\n",
            "       Tip: You could retry the last command with \"-v\" flag for verbose output\n",
            "---\n"
          ],
          "name": "stdout"
        }
      ]
    }
  ]
}